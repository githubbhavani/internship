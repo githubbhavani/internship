{
  "nbformat": 4,
  "nbformat_minor": 0,
  "metadata": {
    "colab": {
      "name": "intern3.ipynb",
      "version": "0.3.2",
      "provenance": [],
      "include_colab_link": true
    },
    "kernelspec": {
      "name": "python3",
      "display_name": "Python 3"
    }
  },
  "cells": [
    {
      "cell_type": "markdown",
      "metadata": {
        "id": "view-in-github",
        "colab_type": "text"
      },
      "source": [
        "<a href=\"https://colab.research.google.com/github/githubbhavani/internship/blob/master/intern3.ipynb\" target=\"_parent\"><img src=\"https://colab.research.google.com/assets/colab-badge.svg\" alt=\"Open In Colab\"/></a>"
      ]
    },
    {
      "cell_type": "code",
      "metadata": {
        "id": "wIQ34sEd-q3V",
        "colab_type": "code",
        "colab": {
          "base_uri": "https://localhost:8080/",
          "height": 68
        },
        "outputId": "58efc819-7aba-497a-94dd-44d253022e54"
      },
      "source": [
        " import numpy as np\n",
        " a = np.arange(15).reshape(3, 5)\n",
        "a"
      ],
      "execution_count": 1,
      "outputs": [
        {
          "output_type": "execute_result",
          "data": {
            "text/plain": [
              "array([[ 0,  1,  2,  3,  4],\n",
              "       [ 5,  6,  7,  8,  9],\n",
              "       [10, 11, 12, 13, 14]])"
            ]
          },
          "metadata": {
            "tags": []
          },
          "execution_count": 1
        }
      ]
    },
    {
      "cell_type": "code",
      "metadata": {
        "id": "lGaQYu4nDv8G",
        "colab_type": "code",
        "colab": {}
      },
      "source": [
        " a = np.floor(10*np.random.random((3,4)))\n",
        "  "
      ],
      "execution_count": 0,
      "outputs": []
    },
    {
      "cell_type": "code",
      "metadata": {
        "id": "Trl3_51lD4FS",
        "colab_type": "code",
        "colab": {
          "base_uri": "https://localhost:8080/",
          "height": 68
        },
        "outputId": "e91c4ede-37b8-4792-90c2-462c3cdd4f1d"
      },
      "source": [
        "a"
      ],
      "execution_count": 6,
      "outputs": [
        {
          "output_type": "execute_result",
          "data": {
            "text/plain": [
              "array([[2., 8., 3., 7.],\n",
              "       [9., 2., 3., 4.],\n",
              "       [8., 3., 7., 8.]])"
            ]
          },
          "metadata": {
            "tags": []
          },
          "execution_count": 6
        }
      ]
    },
    {
      "cell_type": "code",
      "metadata": {
        "id": "z9CcCQKgD_vR",
        "colab_type": "code",
        "colab": {
          "base_uri": "https://localhost:8080/",
          "height": 129
        },
        "outputId": "cbf9629f-8617-4a2b-c4ee-00ab98dd34c0"
      },
      "source": [
        " a.resize((2,6))\n",
        "  "
      ],
      "execution_count": 9,
      "outputs": [
        {
          "output_type": "error",
          "ename": "IndentationError",
          "evalue": "ignored",
          "traceback": [
            "\u001b[0;36m  File \u001b[0;32m\"<ipython-input-9-d09833296e74>\"\u001b[0;36m, line \u001b[0;32m2\u001b[0m\n\u001b[0;31m    a\u001b[0m\n\u001b[0m    ^\u001b[0m\n\u001b[0;31mIndentationError\u001b[0m\u001b[0;31m:\u001b[0m unexpected indent\n"
          ]
        }
      ]
    },
    {
      "cell_type": "code",
      "metadata": {
        "id": "oOHdjHiQEE69",
        "colab_type": "code",
        "colab": {
          "base_uri": "https://localhost:8080/",
          "height": 51
        },
        "outputId": "1d5c51ae-dece-4f8d-8f34-fb27836fc26c"
      },
      "source": [
        "a"
      ],
      "execution_count": 10,
      "outputs": [
        {
          "output_type": "execute_result",
          "data": {
            "text/plain": [
              "array([[2., 8., 3., 7., 9., 2.],\n",
              "       [3., 4., 8., 3., 7., 8.]])"
            ]
          },
          "metadata": {
            "tags": []
          },
          "execution_count": 10
        }
      ]
    },
    {
      "cell_type": "code",
      "metadata": {
        "id": "GR-7cT1QELae",
        "colab_type": "code",
        "colab": {
          "base_uri": "https://localhost:8080/",
          "height": 68
        },
        "outputId": "f5233500-a934-4dbb-a0ad-95e24522ae03"
      },
      "source": [
        " a.reshape(3,-1)\n",
        "  "
      ],
      "execution_count": 12,
      "outputs": [
        {
          "output_type": "execute_result",
          "data": {
            "text/plain": [
              "array([[2., 8., 3., 7.],\n",
              "       [9., 2., 3., 4.],\n",
              "       [8., 3., 7., 8.]])"
            ]
          },
          "metadata": {
            "tags": []
          },
          "execution_count": 12
        }
      ]
    },
    {
      "cell_type": "code",
      "metadata": {
        "id": "3UikCLRtEU6_",
        "colab_type": "code",
        "colab": {}
      },
      "source": [
        " a = np.floor(10*np.random.random((2,2)))\n",
        "   \n",
        "    "
      ],
      "execution_count": 0,
      "outputs": []
    },
    {
      "cell_type": "code",
      "metadata": {
        "id": "fOQTzrjhEabt",
        "colab_type": "code",
        "colab": {
          "base_uri": "https://localhost:8080/",
          "height": 51
        },
        "outputId": "c0d16c24-f0c0-44b8-d08f-d76ca02a728a"
      },
      "source": [
        "a"
      ],
      "execution_count": 16,
      "outputs": [
        {
          "output_type": "execute_result",
          "data": {
            "text/plain": [
              "array([[9., 9.],\n",
              "       [6., 7.]])"
            ]
          },
          "metadata": {
            "tags": []
          },
          "execution_count": 16
        }
      ]
    },
    {
      "cell_type": "code",
      "metadata": {
        "id": "3dhr0QsdENFM",
        "colab_type": "code",
        "colab": {}
      },
      "source": [
        " b = np.floor(10*np.random.random((2,2)))"
      ],
      "execution_count": 0,
      "outputs": []
    },
    {
      "cell_type": "code",
      "metadata": {
        "id": "UVW2iFfYFNqV",
        "colab_type": "code",
        "colab": {
          "base_uri": "https://localhost:8080/",
          "height": 51
        },
        "outputId": "01db1ef8-b30e-42df-fbcd-6049a10c0c8b"
      },
      "source": [
        "b"
      ],
      "execution_count": 19,
      "outputs": [
        {
          "output_type": "execute_result",
          "data": {
            "text/plain": [
              "array([[4., 2.],\n",
              "       [7., 8.]])"
            ]
          },
          "metadata": {
            "tags": []
          },
          "execution_count": 19
        }
      ]
    },
    {
      "cell_type": "code",
      "metadata": {
        "id": "2JfalSl1OxIG",
        "colab_type": "code",
        "colab": {}
      },
      "source": [
        ""
      ],
      "execution_count": 0,
      "outputs": []
    },
    {
      "cell_type": "code",
      "metadata": {
        "id": "OAoBtdu9Fc1V",
        "colab_type": "code",
        "colab": {}
      },
      "source": [
        "from numpy import newaxis\n",
        "      "
      ],
      "execution_count": 0,
      "outputs": []
    },
    {
      "cell_type": "code",
      "metadata": {
        "id": "vx770QUEFi0B",
        "colab_type": "code",
        "colab": {
          "base_uri": "https://localhost:8080/",
          "height": 51
        },
        "outputId": "147f7c22-ccf5-43ec-ee71-677bb65035e8"
      },
      "source": [
        " np.column_stack((a,b))     "
      ],
      "execution_count": 23,
      "outputs": [
        {
          "output_type": "execute_result",
          "data": {
            "text/plain": [
              "array([[9., 9., 4., 2.],\n",
              "       [6., 7., 7., 8.]])"
            ]
          },
          "metadata": {
            "tags": []
          },
          "execution_count": 23
        }
      ]
    },
    {
      "cell_type": "code",
      "metadata": {
        "id": "LLZBPxycF2XN",
        "colab_type": "code",
        "colab": {}
      },
      "source": [
        " a = np.array([4.,2.])\n",
        "  "
      ],
      "execution_count": 0,
      "outputs": []
    },
    {
      "cell_type": "code",
      "metadata": {
        "id": "x-LF1z2sF7Kg",
        "colab_type": "code",
        "colab": {
          "base_uri": "https://localhost:8080/",
          "height": 34
        },
        "outputId": "3bea3c02-8feb-4d70-d5e0-8e25cc0fe82f"
      },
      "source": [
        "a"
      ],
      "execution_count": 26,
      "outputs": [
        {
          "output_type": "execute_result",
          "data": {
            "text/plain": [
              "array([4., 2.])"
            ]
          },
          "metadata": {
            "tags": []
          },
          "execution_count": 26
        }
      ]
    },
    {
      "cell_type": "code",
      "metadata": {
        "id": "-xHRMMlbGABK",
        "colab_type": "code",
        "colab": {}
      },
      "source": [
        "b = np.array([3.,8.])"
      ],
      "execution_count": 0,
      "outputs": []
    },
    {
      "cell_type": "code",
      "metadata": {
        "id": "g8B6PCByGDud",
        "colab_type": "code",
        "colab": {
          "base_uri": "https://localhost:8080/",
          "height": 51
        },
        "outputId": "731cf5c1-35d7-4a13-86a8-a8a634e5eef8"
      },
      "source": [
        "np.column_stack((a,b))"
      ],
      "execution_count": 29,
      "outputs": [
        {
          "output_type": "execute_result",
          "data": {
            "text/plain": [
              "array([[4., 3.],\n",
              "       [2., 8.]])"
            ]
          },
          "metadata": {
            "tags": []
          },
          "execution_count": 29
        }
      ]
    },
    {
      "cell_type": "code",
      "metadata": {
        "id": "aUd-D0i_GDxS",
        "colab_type": "code",
        "colab": {
          "base_uri": "https://localhost:8080/",
          "height": 51
        },
        "outputId": "67f59ce3-0292-4018-e9c2-b5edc3ca0288"
      },
      "source": [
        "a[:,newaxis]"
      ],
      "execution_count": 30,
      "outputs": [
        {
          "output_type": "execute_result",
          "data": {
            "text/plain": [
              "array([[4.],\n",
              "       [2.]])"
            ]
          },
          "metadata": {
            "tags": []
          },
          "execution_count": 30
        }
      ]
    },
    {
      "cell_type": "code",
      "metadata": {
        "id": "e5KA7KrWGn3I",
        "colab_type": "code",
        "colab": {
          "base_uri": "https://localhost:8080/",
          "height": 51
        },
        "outputId": "2124b681-2f32-4efd-e799-79a3003975a0"
      },
      "source": [
        "np.column_stack((a[:,newaxis],b[:,newaxis]))"
      ],
      "execution_count": 31,
      "outputs": [
        {
          "output_type": "execute_result",
          "data": {
            "text/plain": [
              "array([[4., 3.],\n",
              "       [2., 8.]])"
            ]
          },
          "metadata": {
            "tags": []
          },
          "execution_count": 31
        }
      ]
    },
    {
      "cell_type": "code",
      "metadata": {
        "id": "KxQcZd1NHBHg",
        "colab_type": "code",
        "colab": {
          "base_uri": "https://localhost:8080/",
          "height": 34
        },
        "outputId": "237ca03c-d17e-4c92-90c3-e0fcad9dfe4f"
      },
      "source": [
        " np.r_[1:4,0,4]"
      ],
      "execution_count": 34,
      "outputs": [
        {
          "output_type": "execute_result",
          "data": {
            "text/plain": [
              "array([1, 2, 3, 0, 4])"
            ]
          },
          "metadata": {
            "tags": []
          },
          "execution_count": 34
        }
      ]
    },
    {
      "cell_type": "code",
      "metadata": {
        "id": "_Qmr4-YOKHKD",
        "colab_type": "code",
        "colab": {}
      },
      "source": [
        "a = np.array([[1.0, 2.0], [3.0, 4.0]])"
      ],
      "execution_count": 0,
      "outputs": []
    },
    {
      "cell_type": "code",
      "metadata": {
        "id": "Z6_TFNqCKMR-",
        "colab_type": "code",
        "colab": {
          "base_uri": "https://localhost:8080/",
          "height": 51
        },
        "outputId": "c46f517f-abaf-4143-e9c2-1c5bbc39368c"
      },
      "source": [
        "a"
      ],
      "execution_count": 37,
      "outputs": [
        {
          "output_type": "execute_result",
          "data": {
            "text/plain": [
              "array([[1., 2.],\n",
              "       [3., 4.]])"
            ]
          },
          "metadata": {
            "tags": []
          },
          "execution_count": 37
        }
      ]
    },
    {
      "cell_type": "code",
      "metadata": {
        "id": "OW5S-nqhKQXM",
        "colab_type": "code",
        "colab": {
          "base_uri": "https://localhost:8080/",
          "height": 51
        },
        "outputId": "0b7bf1df-027e-46df-f5bf-f86520d63802"
      },
      "source": [
        "print(a)"
      ],
      "execution_count": 38,
      "outputs": [
        {
          "output_type": "stream",
          "text": [
            "[[1. 2.]\n",
            " [3. 4.]]\n"
          ],
          "name": "stdout"
        }
      ]
    },
    {
      "cell_type": "code",
      "metadata": {
        "id": "LPeUE7F6Kb6Z",
        "colab_type": "code",
        "colab": {
          "base_uri": "https://localhost:8080/",
          "height": 51
        },
        "outputId": "4aea5cec-20e9-46fd-9f02-0b1887da3fb0"
      },
      "source": [
        " a.transpose()"
      ],
      "execution_count": 39,
      "outputs": [
        {
          "output_type": "execute_result",
          "data": {
            "text/plain": [
              "array([[1., 3.],\n",
              "       [2., 4.]])"
            ]
          },
          "metadata": {
            "tags": []
          },
          "execution_count": 39
        }
      ]
    },
    {
      "cell_type": "code",
      "metadata": {
        "id": "5IzefcxFL0jh",
        "colab_type": "code",
        "colab": {
          "base_uri": "https://localhost:8080/",
          "height": 51
        },
        "outputId": "d3dcae39-bd42-4ede-8204-0ca34972b3d9"
      },
      "source": [
        " np.linalg.inv(a)"
      ],
      "execution_count": 40,
      "outputs": [
        {
          "output_type": "execute_result",
          "data": {
            "text/plain": [
              "array([[-2. ,  1. ],\n",
              "       [ 1.5, -0.5]])"
            ]
          },
          "metadata": {
            "tags": []
          },
          "execution_count": 40
        }
      ]
    },
    {
      "cell_type": "code",
      "metadata": {
        "id": "nruBMU0VMRX9",
        "colab_type": "code",
        "colab": {}
      },
      "source": [
        "u = np.eye(4)"
      ],
      "execution_count": 0,
      "outputs": []
    },
    {
      "cell_type": "code",
      "metadata": {
        "id": "6szzmkWBMTmS",
        "colab_type": "code",
        "colab": {
          "base_uri": "https://localhost:8080/",
          "height": 85
        },
        "outputId": "f7872098-e2f1-4fec-a835-afc4d2d73f31"
      },
      "source": [
        "u"
      ],
      "execution_count": 42,
      "outputs": [
        {
          "output_type": "execute_result",
          "data": {
            "text/plain": [
              "array([[1., 0., 0., 0.],\n",
              "       [0., 1., 0., 0.],\n",
              "       [0., 0., 1., 0.],\n",
              "       [0., 0., 0., 1.]])"
            ]
          },
          "metadata": {
            "tags": []
          },
          "execution_count": 42
        }
      ]
    },
    {
      "cell_type": "code",
      "metadata": {
        "id": "K4zqxetmNpSC",
        "colab_type": "code",
        "colab": {
          "base_uri": "https://localhost:8080/",
          "height": 34
        },
        "outputId": "0ba90fac-76de-4e42-b918-3efba5eea0fd"
      },
      "source": [
        "np.trace(u)"
      ],
      "execution_count": 43,
      "outputs": [
        {
          "output_type": "execute_result",
          "data": {
            "text/plain": [
              "4.0"
            ]
          },
          "metadata": {
            "tags": []
          },
          "execution_count": 43
        }
      ]
    },
    {
      "cell_type": "code",
      "metadata": {
        "id": "9DyFrBBTNzw8",
        "colab_type": "code",
        "colab": {}
      },
      "source": [
        "y = np.array([[5.], [7.]])\n"
      ],
      "execution_count": 0,
      "outputs": []
    },
    {
      "cell_type": "code",
      "metadata": {
        "id": "OH-zEEteN2Z6",
        "colab_type": "code",
        "colab": {
          "base_uri": "https://localhost:8080/",
          "height": 51
        },
        "outputId": "501b5605-bf52-4267-bf32-f80b0eae12b6"
      },
      "source": [
        "y"
      ],
      "execution_count": 45,
      "outputs": [
        {
          "output_type": "execute_result",
          "data": {
            "text/plain": [
              "array([[5.],\n",
              "       [7.]])"
            ]
          },
          "metadata": {
            "tags": []
          },
          "execution_count": 45
        }
      ]
    },
    {
      "cell_type": "code",
      "metadata": {
        "id": "EIKdtgSWPJYi",
        "colab_type": "code",
        "colab": {
          "base_uri": "https://localhost:8080/",
          "height": 51
        },
        "outputId": "68c47333-409c-4ecd-e6a7-ce3c4f996a28"
      },
      "source": [
        "np.linalg.solve(a, y)"
      ],
      "execution_count": 46,
      "outputs": [
        {
          "output_type": "execute_result",
          "data": {
            "text/plain": [
              "array([[-3.],\n",
              "       [ 4.]])"
            ]
          },
          "metadata": {
            "tags": []
          },
          "execution_count": 46
        }
      ]
    },
    {
      "cell_type": "code",
      "metadata": {
        "id": "FbjkOjkCSPcg",
        "colab_type": "code",
        "colab": {}
      },
      "source": [
        "from array import *\n",
        " "
      ],
      "execution_count": 0,
      "outputs": []
    },
    {
      "cell_type": "code",
      "metadata": {
        "id": "GDLJNX4WSzNR",
        "colab_type": "code",
        "colab": {}
      },
      "source": [
        " my_array = array('i', [1,2,3,4,5,6,7,8,9,10])"
      ],
      "execution_count": 0,
      "outputs": []
    },
    {
      "cell_type": "code",
      "metadata": {
        "id": "X8Lvfy5mS4iQ",
        "colab_type": "code",
        "colab": {
          "base_uri": "https://localhost:8080/",
          "height": 187
        },
        "outputId": "0c72ef0d-faf9-4ae0-9e2c-03207912f885"
      },
      "source": [
        " for i in my_array:\n",
        "    print(i)"
      ],
      "execution_count": 61,
      "outputs": [
        {
          "output_type": "stream",
          "text": [
            "1\n",
            "2\n",
            "3\n",
            "4\n",
            "5\n",
            "6\n",
            "7\n",
            "8\n",
            "9\n",
            "10\n"
          ],
          "name": "stdout"
        }
      ]
    },
    {
      "cell_type": "code",
      "metadata": {
        "id": "kr3SaZNVTNxz",
        "colab_type": "code",
        "colab": {
          "base_uri": "https://localhost:8080/",
          "height": 34
        },
        "outputId": "7a29c2db-f75e-45ff-b6ca-0374d3f4d303"
      },
      "source": [
        " my_array[7]"
      ],
      "execution_count": 62,
      "outputs": [
        {
          "output_type": "execute_result",
          "data": {
            "text/plain": [
              "8"
            ]
          },
          "metadata": {
            "tags": []
          },
          "execution_count": 62
        }
      ]
    },
    {
      "cell_type": "code",
      "metadata": {
        "id": "cigNJxE5UOIk",
        "colab_type": "code",
        "colab": {}
      },
      "source": [
        " my_array.append(11)"
      ],
      "execution_count": 0,
      "outputs": []
    },
    {
      "cell_type": "code",
      "metadata": {
        "id": "CSyqTD_EUjWQ",
        "colab_type": "code",
        "colab": {
          "base_uri": "https://localhost:8080/",
          "height": 221
        },
        "outputId": "5fb9108e-83f2-4f1e-ba0f-bbaa85b2186e"
      },
      "source": [
        "for i in my_array:\n",
        "    print(i)"
      ],
      "execution_count": 65,
      "outputs": [
        {
          "output_type": "stream",
          "text": [
            "1\n",
            "2\n",
            "3\n",
            "4\n",
            "5\n",
            "6\n",
            "7\n",
            "8\n",
            "9\n",
            "10\n",
            "11\n",
            "11\n"
          ],
          "name": "stdout"
        }
      ]
    },
    {
      "cell_type": "code",
      "metadata": {
        "id": "WGfIEo9vU9Ze",
        "colab_type": "code",
        "colab": {}
      },
      "source": [
        " my_array.insert(2,0)"
      ],
      "execution_count": 0,
      "outputs": []
    },
    {
      "cell_type": "code",
      "metadata": {
        "id": "b88QNsC_VA8V",
        "colab_type": "code",
        "colab": {
          "base_uri": "https://localhost:8080/",
          "height": 34
        },
        "outputId": "28fc39e9-8fd2-43c6-e2c6-0a412bbb77ca"
      },
      "source": [
        "my_array"
      ],
      "execution_count": 67,
      "outputs": [
        {
          "output_type": "execute_result",
          "data": {
            "text/plain": [
              "array('i', [1, 2, 0, 3, 4, 5, 6, 7, 8, 9, 10, 11, 11])"
            ]
          },
          "metadata": {
            "tags": []
          },
          "execution_count": 67
        }
      ]
    },
    {
      "cell_type": "code",
      "metadata": {
        "id": "2BQ-DLCiVHzw",
        "colab_type": "code",
        "colab": {}
      },
      "source": [
        "my_extnd_array = array('i', [12,13,14,15])\n"
      ],
      "execution_count": 0,
      "outputs": []
    },
    {
      "cell_type": "code",
      "metadata": {
        "id": "0Y5hruifVYM6",
        "colab_type": "code",
        "colab": {}
      },
      "source": [
        "my_array.extend(my_extnd_array)"
      ],
      "execution_count": 0,
      "outputs": []
    },
    {
      "cell_type": "code",
      "metadata": {
        "id": "bAakAn_UVctj",
        "colab_type": "code",
        "colab": {
          "base_uri": "https://localhost:8080/",
          "height": 34
        },
        "outputId": "3eab49d9-16f1-4033-bfdd-d500f82c5f33"
      },
      "source": [
        "my_array"
      ],
      "execution_count": 72,
      "outputs": [
        {
          "output_type": "execute_result",
          "data": {
            "text/plain": [
              "array('i', [1, 2, 0, 3, 4, 5, 6, 7, 8, 9, 10, 11, 11, 12, 13, 14, 15])"
            ]
          },
          "metadata": {
            "tags": []
          },
          "execution_count": 72
        }
      ]
    },
    {
      "cell_type": "code",
      "metadata": {
        "id": "zy_CwrtTViyI",
        "colab_type": "code",
        "colab": {}
      },
      "source": [
        "c=[11,12,13]\n",
        ">>> my_array.fromlist(c)"
      ],
      "execution_count": 0,
      "outputs": []
    },
    {
      "cell_type": "code",
      "metadata": {
        "id": "ZhBsprraVwIE",
        "colab_type": "code",
        "colab": {
          "base_uri": "https://localhost:8080/",
          "height": 34
        },
        "outputId": "900387f0-26f9-4d5b-c8eb-3734b563bae0"
      },
      "source": [
        "my_array"
      ],
      "execution_count": 75,
      "outputs": [
        {
          "output_type": "execute_result",
          "data": {
            "text/plain": [
              "array('i', [1, 2, 0, 3, 4, 5, 6, 7, 8, 9, 10, 11, 11, 12, 13, 14, 15, 11, 12, 13])"
            ]
          },
          "metadata": {
            "tags": []
          },
          "execution_count": 75
        }
      ]
    },
    {
      "cell_type": "code",
      "metadata": {
        "id": "ky0il77wV2nI",
        "colab_type": "code",
        "colab": {
          "base_uri": "https://localhost:8080/",
          "height": 34
        },
        "outputId": "b09d3c33-1629-45c3-fce4-ecb994a0b5a9"
      },
      "source": [
        ">>> my_array.remove(0)\n",
        ">>> my_array"
      ],
      "execution_count": 93,
      "outputs": [
        {
          "output_type": "execute_result",
          "data": {
            "text/plain": [
              "array('i', [1, 2, 3, 4, 5, 6, 7, 8, 9, 10, 11, 11, 12, 14, 15, 11, 12])"
            ]
          },
          "metadata": {
            "tags": []
          },
          "execution_count": 93
        }
      ]
    },
    {
      "cell_type": "code",
      "metadata": {
        "id": "4roz-4uRV6ec",
        "colab_type": "code",
        "colab": {
          "base_uri": "https://localhost:8080/",
          "height": 34
        },
        "outputId": "18f4181a-7f60-48b1-cd4f-a7057dce6579"
      },
      "source": [
        ">>> my_array.remove(12)\n",
        ">>> my_array"
      ],
      "execution_count": 95,
      "outputs": [
        {
          "output_type": "execute_result",
          "data": {
            "text/plain": [
              "array('i', [1, 2, 3, 4, 5, 6, 7, 8, 9, 10, 11, 11, 14, 15, 11, 12])"
            ]
          },
          "metadata": {
            "tags": []
          },
          "execution_count": 95
        }
      ]
    },
    {
      "cell_type": "code",
      "metadata": {
        "id": "L2Bn_xZjWEBT",
        "colab_type": "code",
        "colab": {
          "base_uri": "https://localhost:8080/",
          "height": 34
        },
        "outputId": "a03429af-8b56-4926-a451-41edc1b95b69"
      },
      "source": [
        " my_array.index(1)"
      ],
      "execution_count": 92,
      "outputs": [
        {
          "output_type": "execute_result",
          "data": {
            "text/plain": [
              "0"
            ]
          },
          "metadata": {
            "tags": []
          },
          "execution_count": 92
        }
      ]
    },
    {
      "cell_type": "code",
      "metadata": {
        "id": "INRX8u2DX6Tt",
        "colab_type": "code",
        "colab": {
          "base_uri": "https://localhost:8080/",
          "height": 34
        },
        "outputId": "f9cd0cf7-26de-4eb5-bf8a-47f4927d078f"
      },
      "source": [
        "\n",
        ">>> my_array"
      ],
      "execution_count": 98,
      "outputs": [
        {
          "output_type": "execute_result",
          "data": {
            "text/plain": [
              "array('i', [1, 2, 3, 4, 5, 6, 7, 8, 9, 10, 11, 11, 14, 15, 11, 12])"
            ]
          },
          "metadata": {
            "tags": []
          },
          "execution_count": 98
        }
      ]
    },
    {
      "cell_type": "code",
      "metadata": {
        "id": "AE1qp5MRYWom",
        "colab_type": "code",
        "colab": {
          "base_uri": "https://localhost:8080/",
          "height": 34
        },
        "outputId": "43097f4a-1a7f-4e31-c5f0-d8f2130330fc"
      },
      "source": [
        ">>> my_array.reverse()\n",
        ">>> my_array"
      ],
      "execution_count": 99,
      "outputs": [
        {
          "output_type": "execute_result",
          "data": {
            "text/plain": [
              "array('i', [12, 11, 15, 14, 11, 11, 10, 9, 8, 7, 6, 5, 4, 3, 2, 1])"
            ]
          },
          "metadata": {
            "tags": []
          },
          "execution_count": 99
        }
      ]
    },
    {
      "cell_type": "code",
      "metadata": {
        "id": "5A1l6CjuYoLp",
        "colab_type": "code",
        "colab": {
          "base_uri": "https://localhost:8080/",
          "height": 34
        },
        "outputId": "12caf6c6-402b-47ed-eabb-beeac4718463"
      },
      "source": [
        " my_array.buffer_info()"
      ],
      "execution_count": 100,
      "outputs": [
        {
          "output_type": "execute_result",
          "data": {
            "text/plain": [
              "(140643987896112, 16)"
            ]
          },
          "metadata": {
            "tags": []
          },
          "execution_count": 100
        }
      ]
    },
    {
      "cell_type": "code",
      "metadata": {
        "id": "lpHdWbsSY0Ga",
        "colab_type": "code",
        "colab": {
          "base_uri": "https://localhost:8080/",
          "height": 34
        },
        "outputId": "9734d3fd-7485-4926-a91f-28f8308d77c7"
      },
      "source": [
        "my_array.count(11)"
      ],
      "execution_count": 101,
      "outputs": [
        {
          "output_type": "execute_result",
          "data": {
            "text/plain": [
              "3"
            ]
          },
          "metadata": {
            "tags": []
          },
          "execution_count": 101
        }
      ]
    },
    {
      "cell_type": "code",
      "metadata": {
        "id": "M31MXAevY_7R",
        "colab_type": "code",
        "colab": {}
      },
      "source": [
        " m = array('b', [ord('g'),ord('e'),ord('e'),ord('k')])"
      ],
      "execution_count": 0,
      "outputs": []
    },
    {
      "cell_type": "code",
      "metadata": {
        "id": "WY4T0jOva4la",
        "colab_type": "code",
        "colab": {
          "base_uri": "https://localhost:8080/",
          "height": 34
        },
        "outputId": "502e4440-202a-4364-c2a2-c19c9c4872bf"
      },
      "source": [
        "m"
      ],
      "execution_count": 118,
      "outputs": [
        {
          "output_type": "execute_result",
          "data": {
            "text/plain": [
              "array('b', [103, 101, 101, 107])"
            ]
          },
          "metadata": {
            "tags": []
          },
          "execution_count": 118
        }
      ]
    },
    {
      "cell_type": "code",
      "metadata": {
        "id": "5HS6XLQsbSGM",
        "colab_type": "code",
        "colab": {
          "base_uri": "https://localhost:8080/",
          "height": 34
        },
        "outputId": "bb056695-0d11-4864-9cad-00ae045381be"
      },
      "source": [
        "my_array"
      ],
      "execution_count": 113,
      "outputs": [
        {
          "output_type": "execute_result",
          "data": {
            "text/plain": [
              "array('i', [12, 11, 15, 14, 11, 11, 10, 9, 8, 7, 6, 5, 4, 3, 2, 1])"
            ]
          },
          "metadata": {
            "tags": []
          },
          "execution_count": 113
        }
      ]
    },
    {
      "cell_type": "code",
      "metadata": {
        "id": "ytlb3cPPbXsy",
        "colab_type": "code",
        "colab": {
          "base_uri": "https://localhost:8080/",
          "height": 34
        },
        "outputId": "824a1bfc-3b4c-4174-9e8c-ac56bf09da1b"
      },
      "source": [
        "c = my_array.tolist()\n",
        "c"
      ],
      "execution_count": 119,
      "outputs": [
        {
          "output_type": "execute_result",
          "data": {
            "text/plain": [
              "[12, 11, 15, 14, 11, 11, 10, 9, 8, 7, 6, 5, 4, 3, 2, 1]"
            ]
          },
          "metadata": {
            "tags": []
          },
          "execution_count": 119
        }
      ]
    },
    {
      "cell_type": "code",
      "metadata": {
        "id": "gOc3OrZPbj0t",
        "colab_type": "code",
        "colab": {}
      },
      "source": [
        "m.fromstring(\"stuff\")"
      ],
      "execution_count": 0,
      "outputs": []
    },
    {
      "cell_type": "code",
      "metadata": {
        "id": "xyi6pdorcBZo",
        "colab_type": "code",
        "colab": {
          "base_uri": "https://localhost:8080/",
          "height": 34
        },
        "outputId": "734fe665-87b4-4744-a62b-cd8a30d8f2f0"
      },
      "source": [
        "m"
      ],
      "execution_count": 121,
      "outputs": [
        {
          "output_type": "execute_result",
          "data": {
            "text/plain": [
              "array('b', [103, 101, 101, 107, 115, 116, 117, 102, 102])"
            ]
          },
          "metadata": {
            "tags": []
          },
          "execution_count": 121
        }
      ]
    },
    {
      "cell_type": "code",
      "metadata": {
        "id": "cYDWGlKxfqsw",
        "colab_type": "code",
        "colab": {}
      },
      "source": [
        "pno=0\n",
        "def p(n):\n",
        "  if x>=2:\n",
        "    for y in range(2,x):\n",
        "      if not(x % y):\n",
        "        return false\n",
        "      else:\n",
        "        return true\n",
        "      \n",
        "     \n",
        "  "
      ],
      "execution_count": 0,
      "outputs": []
    },
    {
      "cell_type": "code",
      "metadata": {
        "id": "wB7N9RXCl-5U",
        "colab_type": "code",
        "colab": {
          "base_uri": "https://localhost:8080/",
          "height": 129
        },
        "outputId": "3d7f0043-709a-47a4-b8f8-91604834db56"
      },
      "source": [
        "for i in range(int(raw_input(\"enter how many numbers:\"))):\n",
        "  if p(i):\n",
        "    pno +=1\n",
        "    print i\n",
        "   \n",
        "    \n",
        "print \"we found\" +str(pno)+\"prime\""
      ],
      "execution_count": 156,
      "outputs": [
        {
          "output_type": "error",
          "ename": "SyntaxError",
          "evalue": "ignored",
          "traceback": [
            "\u001b[0;36m  File \u001b[0;32m\"<ipython-input-156-c7f30782ee01>\"\u001b[0;36m, line \u001b[0;32m4\u001b[0m\n\u001b[0;31m    print i\u001b[0m\n\u001b[0m          ^\u001b[0m\n\u001b[0;31mSyntaxError\u001b[0m\u001b[0;31m:\u001b[0m Missing parentheses in call to 'print'. Did you mean print(i)?\n"
          ]
        }
      ]
    },
    {
      "cell_type": "code",
      "metadata": {
        "id": "i4mBG54cn-Qf",
        "colab_type": "code",
        "colab": {}
      },
      "source": [
        "def isprime(n):\n",
        "  if n==2 or n==3:return true\n",
        "  if n<=2 or n%2 == 0:return false\n",
        "  if n<9:return true\n",
        "  if n%3==0:return false\n",
        "  r=int(n**0.5)\n",
        "  f=5\n",
        "  while f<=r:\n",
        "    print ('\\t',f)\n",
        "    if n%f ==0:return false\n",
        "    if n%(f+2) ==0:return false\n",
        "    f +=6\n",
        "    return true"
      ],
      "execution_count": 0,
      "outputs": []
    },
    {
      "cell_type": "code",
      "metadata": {
        "id": "h4pElzQApQHD",
        "colab_type": "code",
        "colab": {
          "base_uri": "https://localhost:8080/",
          "height": 129
        },
        "outputId": "80e5d905-fb01-401b-caa2-9e78916494cd"
      },
      "source": [
        "print isprime(1)"
      ],
      "execution_count": 167,
      "outputs": [
        {
          "output_type": "error",
          "ename": "SyntaxError",
          "evalue": "ignored",
          "traceback": [
            "\u001b[0;36m  File \u001b[0;32m\"<ipython-input-167-4c724a3d911e>\"\u001b[0;36m, line \u001b[0;32m1\u001b[0m\n\u001b[0;31m    print isprime(1)\u001b[0m\n\u001b[0m                ^\u001b[0m\n\u001b[0;31mSyntaxError\u001b[0m\u001b[0;31m:\u001b[0m invalid syntax\n"
          ]
        }
      ]
    },
    {
      "cell_type": "code",
      "metadata": {
        "id": "MSg4rFkauQsX",
        "colab_type": "code",
        "colab": {
          "base_uri": "https://localhost:8080/",
          "height": 163
        },
        "outputId": "32bd598c-6b2a-49c6-f630-fcafd0709b5a"
      },
      "source": [
        "a=random.ramdomint(100)"
      ],
      "execution_count": 170,
      "outputs": [
        {
          "output_type": "error",
          "ename": "NameError",
          "evalue": "ignored",
          "traceback": [
            "\u001b[0;31m---------------------------------------------------------------------------\u001b[0m",
            "\u001b[0;31mNameError\u001b[0m                                 Traceback (most recent call last)",
            "\u001b[0;32m<ipython-input-170-f3b0f5fc8868>\u001b[0m in \u001b[0;36m<module>\u001b[0;34m()\u001b[0m\n\u001b[0;32m----> 1\u001b[0;31m \u001b[0ma\u001b[0m\u001b[0;34m=\u001b[0m\u001b[0mrandom\u001b[0m\u001b[0;34m.\u001b[0m\u001b[0mramdomint\u001b[0m\u001b[0;34m(\u001b[0m\u001b[0;36m100\u001b[0m\u001b[0;34m)\u001b[0m\u001b[0;34m\u001b[0m\u001b[0;34m\u001b[0m\u001b[0m\n\u001b[0m",
            "\u001b[0;31mNameError\u001b[0m: name 'random' is not defined"
          ]
        }
      ]
    },
    {
      "cell_type": "code",
      "metadata": {
        "id": "dDDfrcxZO2y6",
        "colab_type": "code",
        "colab": {
          "base_uri": "https://localhost:8080/",
          "height": 129
        },
        "outputId": "a73ba84d-64dc-4c36-a679-d5342bc7b4ef"
      },
      "source": [
        "for i in range(0,100):\n",
        "  if i % 2 == 0:\n",
        "    print(\"even number:\",i)\n",
        "  else:\n",
        "      print(\"odd number:\",i)\n",
        "      \n",
        "print(\"{} is even\"format(i) if i % 2==0 else \"{} is odd\"format(i))"
      ],
      "execution_count": 9,
      "outputs": [
        {
          "output_type": "error",
          "ename": "SyntaxError",
          "evalue": "ignored",
          "traceback": [
            "\u001b[0;36m  File \u001b[0;32m\"<ipython-input-9-006c6fcf90a2>\"\u001b[0;36m, line \u001b[0;32m7\u001b[0m\n\u001b[0;31m    print(\"{} is even\"format(i) if i % 2==0 else \"{} is odd\"format(i))\u001b[0m\n\u001b[0m                           ^\u001b[0m\n\u001b[0;31mSyntaxError\u001b[0m\u001b[0;31m:\u001b[0m invalid syntax\n"
          ]
        }
      ]
    },
    {
      "cell_type": "code",
      "metadata": {
        "id": "tVs3yvY0Rgq4",
        "colab_type": "code",
        "colab": {
          "base_uri": "https://localhost:8080/",
          "height": 867
        },
        "outputId": "0a4ce59a-e037-4585-b5f2-b2720303ff2a"
      },
      "source": [
        "for i in range(0,100):\n",
        "  if i % 2 != 0:\n",
        "    continue\n",
        "  else:\n",
        "    print (\"number is\",i,\"   even\")\n",
        "      "
      ],
      "execution_count": 1,
      "outputs": [
        {
          "output_type": "stream",
          "text": [
            "number is 0    even\n",
            "number is 2    even\n",
            "number is 4    even\n",
            "number is 6    even\n",
            "number is 8    even\n",
            "number is 10    even\n",
            "number is 12    even\n",
            "number is 14    even\n",
            "number is 16    even\n",
            "number is 18    even\n",
            "number is 20    even\n",
            "number is 22    even\n",
            "number is 24    even\n",
            "number is 26    even\n",
            "number is 28    even\n",
            "number is 30    even\n",
            "number is 32    even\n",
            "number is 34    even\n",
            "number is 36    even\n",
            "number is 38    even\n",
            "number is 40    even\n",
            "number is 42    even\n",
            "number is 44    even\n",
            "number is 46    even\n",
            "number is 48    even\n",
            "number is 50    even\n",
            "number is 52    even\n",
            "number is 54    even\n",
            "number is 56    even\n",
            "number is 58    even\n",
            "number is 60    even\n",
            "number is 62    even\n",
            "number is 64    even\n",
            "number is 66    even\n",
            "number is 68    even\n",
            "number is 70    even\n",
            "number is 72    even\n",
            "number is 74    even\n",
            "number is 76    even\n",
            "number is 78    even\n",
            "number is 80    even\n",
            "number is 82    even\n",
            "number is 84    even\n",
            "number is 86    even\n",
            "number is 88    even\n",
            "number is 90    even\n",
            "number is 92    even\n",
            "number is 94    even\n",
            "number is 96    even\n",
            "number is 98    even\n"
          ],
          "name": "stdout"
        }
      ]
    }
  ]
}